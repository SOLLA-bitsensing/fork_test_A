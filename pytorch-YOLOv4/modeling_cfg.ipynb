{
 "metadata": {
  "language_info": {
   "codemirror_mode": {
    "name": "ipython",
    "version": 3
   },
   "file_extension": ".py",
   "mimetype": "text/x-python",
   "name": "python",
   "nbconvert_exporter": "python",
   "pygments_lexer": "ipython3",
   "version": "3.7.7-final"
  },
  "orig_nbformat": 2,
  "kernelspec": {
   "name": "python3",
   "display_name": "Python 3",
   "language": "python"
  }
 },
 "nbformat": 4,
 "nbformat_minor": 2,
 "cells": [
  {
   "cell_type": "code",
   "execution_count": 2,
   "metadata": {},
   "outputs": [],
   "source": [
    "import torch\n",
    "from tool.darknet2pytorch import Darknet\n",
    "import tool.config as tools"
   ]
  },
  {
   "cell_type": "code",
   "execution_count": 1,
   "metadata": {},
   "outputs": [],
   "source": [
    "cfgfile = './cfg/yolov3.cfg'"
   ]
  },
  {
   "cell_type": "code",
   "execution_count": 3,
   "metadata": {},
   "outputs": [
    {
     "output_type": "stream",
     "name": "stdout",
     "text": [
      "convalution havn't activate linear\nconvalution havn't activate linear\nconvalution havn't activate linear\n"
     ]
    }
   ],
   "source": [
    "m = Darknet(cfgfile)"
   ]
  },
  {
   "cell_type": "code",
   "execution_count": 4,
   "metadata": {},
   "outputs": [
    {
     "output_type": "stream",
     "name": "stdout",
     "text": [
      "layer     filters    size              input                output\n    0 conv     32  3 x 3 / 1   416 x 416 x   3   ->   416 x 416 x  32\n    1 conv     64  3 x 3 / 2   416 x 416 x  32   ->   208 x 208 x  64\n    2 conv     32  1 x 1 / 1   208 x 208 x  64   ->   208 x 208 x  32\n    3 conv     64  3 x 3 / 1   208 x 208 x  32   ->   208 x 208 x  64\n    4 shortcut 1\n    5 conv    128  3 x 3 / 2   208 x 208 x  64   ->   104 x 104 x 128\n    6 conv     64  1 x 1 / 1   104 x 104 x 128   ->   104 x 104 x  64\n    7 conv    128  3 x 3 / 1   104 x 104 x  64   ->   104 x 104 x 128\n    8 shortcut 5\n    9 conv     64  1 x 1 / 1   104 x 104 x 128   ->   104 x 104 x  64\n   10 conv    128  3 x 3 / 1   104 x 104 x  64   ->   104 x 104 x 128\n   11 shortcut 8\n   12 conv    256  3 x 3 / 2   104 x 104 x 128   ->    52 x  52 x 256\n   13 conv    128  1 x 1 / 1    52 x  52 x 256   ->    52 x  52 x 128\n   14 conv    256  3 x 3 / 1    52 x  52 x 128   ->    52 x  52 x 256\n   15 shortcut 12\n   16 conv    128  1 x 1 / 1    52 x  52 x 256   ->    52 x  52 x 128\n   17 conv    256  3 x 3 / 1    52 x  52 x 128   ->    52 x  52 x 256\n   18 shortcut 15\n   19 conv    128  1 x 1 / 1    52 x  52 x 256   ->    52 x  52 x 128\n   20 conv    256  3 x 3 / 1    52 x  52 x 128   ->    52 x  52 x 256\n   21 shortcut 18\n   22 conv    128  1 x 1 / 1    52 x  52 x 256   ->    52 x  52 x 128\n   23 conv    256  3 x 3 / 1    52 x  52 x 128   ->    52 x  52 x 256\n   24 shortcut 21\n   25 conv    128  1 x 1 / 1    52 x  52 x 256   ->    52 x  52 x 128\n   26 conv    256  3 x 3 / 1    52 x  52 x 128   ->    52 x  52 x 256\n   27 shortcut 24\n   28 conv    128  1 x 1 / 1    52 x  52 x 256   ->    52 x  52 x 128\n   29 conv    256  3 x 3 / 1    52 x  52 x 128   ->    52 x  52 x 256\n   30 shortcut 27\n   31 conv    128  1 x 1 / 1    52 x  52 x 256   ->    52 x  52 x 128\n   32 conv    256  3 x 3 / 1    52 x  52 x 128   ->    52 x  52 x 256\n   33 shortcut 30\n   34 conv    128  1 x 1 / 1    52 x  52 x 256   ->    52 x  52 x 128\n   35 conv    256  3 x 3 / 1    52 x  52 x 128   ->    52 x  52 x 256\n   36 shortcut 33\n   37 conv    512  3 x 3 / 2    52 x  52 x 256   ->    26 x  26 x 512\n   38 conv    256  1 x 1 / 1    26 x  26 x 512   ->    26 x  26 x 256\n   39 conv    512  3 x 3 / 1    26 x  26 x 256   ->    26 x  26 x 512\n   40 shortcut 37\n   41 conv    256  1 x 1 / 1    26 x  26 x 512   ->    26 x  26 x 256\n   42 conv    512  3 x 3 / 1    26 x  26 x 256   ->    26 x  26 x 512\n   43 shortcut 40\n   44 conv    256  1 x 1 / 1    26 x  26 x 512   ->    26 x  26 x 256\n   45 conv    512  3 x 3 / 1    26 x  26 x 256   ->    26 x  26 x 512\n   46 shortcut 43\n   47 conv    256  1 x 1 / 1    26 x  26 x 512   ->    26 x  26 x 256\n   48 conv    512  3 x 3 / 1    26 x  26 x 256   ->    26 x  26 x 512\n   49 shortcut 46\n   50 conv    256  1 x 1 / 1    26 x  26 x 512   ->    26 x  26 x 256\n   51 conv    512  3 x 3 / 1    26 x  26 x 256   ->    26 x  26 x 512\n   52 shortcut 49\n   53 conv    256  1 x 1 / 1    26 x  26 x 512   ->    26 x  26 x 256\n   54 conv    512  3 x 3 / 1    26 x  26 x 256   ->    26 x  26 x 512\n   55 shortcut 52\n   56 conv    256  1 x 1 / 1    26 x  26 x 512   ->    26 x  26 x 256\n   57 conv    512  3 x 3 / 1    26 x  26 x 256   ->    26 x  26 x 512\n   58 shortcut 55\n   59 conv    256  1 x 1 / 1    26 x  26 x 512   ->    26 x  26 x 256\n   60 conv    512  3 x 3 / 1    26 x  26 x 256   ->    26 x  26 x 512\n   61 shortcut 58\n   62 conv   1024  3 x 3 / 2    26 x  26 x 512   ->    13 x  13 x1024\n   63 conv    512  1 x 1 / 1    13 x  13 x1024   ->    13 x  13 x 512\n   64 conv   1024  3 x 3 / 1    13 x  13 x 512   ->    13 x  13 x1024\n   65 shortcut 62\n   66 conv    512  1 x 1 / 1    13 x  13 x1024   ->    13 x  13 x 512\n   67 conv   1024  3 x 3 / 1    13 x  13 x 512   ->    13 x  13 x1024\n   68 shortcut 65\n   69 conv    512  1 x 1 / 1    13 x  13 x1024   ->    13 x  13 x 512\n   70 conv   1024  3 x 3 / 1    13 x  13 x 512   ->    13 x  13 x1024\n   71 shortcut 68\n   72 conv    512  1 x 1 / 1    13 x  13 x1024   ->    13 x  13 x 512\n   73 conv   1024  3 x 3 / 1    13 x  13 x 512   ->    13 x  13 x1024\n   74 shortcut 71\n   75 conv    512  1 x 1 / 1    13 x  13 x1024   ->    13 x  13 x 512\n   76 conv   1024  3 x 3 / 1    13 x  13 x 512   ->    13 x  13 x1024\n   77 conv    512  1 x 1 / 1    13 x  13 x1024   ->    13 x  13 x 512\n   78 conv   1024  3 x 3 / 1    13 x  13 x 512   ->    13 x  13 x1024\n   79 conv    512  1 x 1 / 1    13 x  13 x1024   ->    13 x  13 x 512\n   80 conv   1024  3 x 3 / 1    13 x  13 x 512   ->    13 x  13 x1024\n   81 conv    255  1 x 1 / 1    13 x  13 x1024   ->    13 x  13 x 255\n   82 detection\n   83 route  79\n   84 conv    256  1 x 1 / 1    13 x  13 x 512   ->    13 x  13 x 256\n   85 upsample           * 2    13 x  13 x 256   ->    26 x  26 x 256\n   86 route  85 61\n   87 conv    256  1 x 1 / 1    26 x  26 x 768   ->    26 x  26 x 256\n   88 conv    512  3 x 3 / 1    26 x  26 x 256   ->    26 x  26 x 512\n   89 conv    256  1 x 1 / 1    26 x  26 x 512   ->    26 x  26 x 256\n   90 conv    512  3 x 3 / 1    26 x  26 x 256   ->    26 x  26 x 512\n   91 conv    256  1 x 1 / 1    26 x  26 x 512   ->    26 x  26 x 256\n   92 conv    512  3 x 3 / 1    26 x  26 x 256   ->    26 x  26 x 512\n   93 conv    255  1 x 1 / 1    26 x  26 x 512   ->    26 x  26 x 255\n   94 detection\n   95 route  91\n   96 conv    128  1 x 1 / 1    26 x  26 x 256   ->    26 x  26 x 128\n   97 upsample           * 2    26 x  26 x 128   ->    52 x  52 x 128\n   98 route  97 36\n   99 conv    128  1 x 1 / 1    52 x  52 x 384   ->    52 x  52 x 128\n  100 conv    256  3 x 3 / 1    52 x  52 x 128   ->    52 x  52 x 256\n  101 conv    128  1 x 1 / 1    52 x  52 x 256   ->    52 x  52 x 128\n  102 conv    256  3 x 3 / 1    52 x  52 x 128   ->    52 x  52 x 256\n  103 conv    128  1 x 1 / 1    52 x  52 x 256   ->    52 x  52 x 128\n  104 conv    256  3 x 3 / 1    52 x  52 x 128   ->    52 x  52 x 256\n  105 conv    255  1 x 1 / 1    52 x  52 x 256   ->    52 x  52 x 255\n  106 detection\n"
     ]
    }
   ],
   "source": [
    "m.print_network()"
   ]
  },
  {
   "cell_type": "code",
   "execution_count": null,
   "metadata": {},
   "outputs": [],
   "source": [
    "block = tools.parse_cfg('./cfg/yolov4.cfg')"
   ]
  },
  {
   "cell_type": "code",
   "execution_count": null,
   "metadata": {},
   "outputs": [],
   "source": []
  },
  {
   "cell_type": "code",
   "execution_count": null,
   "metadata": {},
   "outputs": [],
   "source": []
  },
  {
   "cell_type": "code",
   "execution_count": null,
   "metadata": {},
   "outputs": [],
   "source": [
    "block[0].keys()"
   ]
  },
  {
   "cell_type": "code",
   "execution_count": null,
   "metadata": {},
   "outputs": [],
   "source": [
    "len(block)"
   ]
  },
  {
   "cell_type": "code",
   "execution_count": null,
   "metadata": {},
   "outputs": [],
   "source": [
    "type(block[0])"
   ]
  },
  {
   "cell_type": "code",
   "execution_count": null,
   "metadata": {},
   "outputs": [],
   "source": [
    "block"
   ]
  }
 ]
}