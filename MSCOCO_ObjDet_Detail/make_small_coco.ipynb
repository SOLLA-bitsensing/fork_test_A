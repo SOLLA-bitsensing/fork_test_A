{
 "cells": [
  {
   "cell_type": "code",
   "execution_count": 1,
   "metadata": {},
   "outputs": [],
   "source": [
    "import json\n",
    "import os\n",
    "from pycocotools.coco import COCO\n",
    "from pycocotools.cocoeval import COCOeval\n",
    "\n",
    "import cv2\n",
    "import matplotlib.pyplot as plt\n",
    "import numpy as np\n",
    "import shutil"
   ]
  },
  {
   "cell_type": "markdown",
   "metadata": {},
   "source": [
    "# make new coco data set"
   ]
  },
  {
   "cell_type": "code",
   "execution_count": 2,
   "metadata": {},
   "outputs": [],
   "source": [
    "class DIR:\n",
    "    src_ann = './../coco/annotations/instances_val2017.json' # path/*.json\n",
    "    dst_ann = './new_coco/annotations/new_anno.json' # path/*.json\n",
    "    \n",
    "    src_img = './../coco/images/val2017/' # image path/ ex)coco/images/val2017/\n",
    "    dst_img = './new_coco/images/' # image path/ ex)new_coco/images/val2017/"
   ]
  },
  {
   "cell_type": "code",
   "execution_count": 3,
   "metadata": {},
   "outputs": [],
   "source": [
    "def make_small_coco(DIR, num):\n",
    "    with open(DIR.src_ann) as f:\n",
    "        anno = json.load(f)\n",
    "        \n",
    "    coco = COCO(DIR.src_ann)\n",
    "    img_ids = coco.getImgIds()[:num]\n",
    "    \n",
    "    new_anno = anno\n",
    "    new_anno['images'] = coco.loadImgs(img_ids)\n",
    "    new_anno['annotations'] = coco.loadAnns(coco.getAnnIds(imgIds=img_ids))\n",
    "    \n",
    "    # copy images\n",
    "    for img_anno in new_anno['images']:\n",
    "        src = DIR.src_img + img_anno['file_name']\n",
    "        dst = DIR.dst_img + img_anno['file_name']\n",
    "        shutil.copy(src, dst)\n",
    "    \n",
    "    # copy annotation.json\n",
    "    with open(DIR.dst_ann, 'w') as f:\n",
    "        json.dump(new_anno, f)\n",
    "    \n",
    "    return new_anno"
   ]
  },
  {
   "cell_type": "code",
   "execution_count": 4,
   "metadata": {},
   "outputs": [
    {
     "name": "stdout",
     "output_type": "stream",
     "text": [
      "loading annotations into memory...\n",
      "Done (t=0.46s)\n",
      "creating index...\n",
      "index created!\n"
     ]
    }
   ],
   "source": [
    "new_anno = make_small_coco(DIR, 100)"
   ]
  },
  {
   "cell_type": "markdown",
   "metadata": {},
   "source": [
    "# evaluation demo"
   ]
  },
  {
   "cell_type": "code",
   "execution_count": 5,
   "metadata": {},
   "outputs": [],
   "source": [
    "from tqdm import tqdm"
   ]
  },
  {
   "cell_type": "code",
   "execution_count": 6,
   "metadata": {},
   "outputs": [],
   "source": [
    "new_anno_json = './new_coco/annotations/new_anno.json'\n",
    "new_pred_json = './new_coco/annotations/new_pred.json'\n",
    "pred_json ='./yolov3_predictions.json'"
   ]
  },
  {
   "cell_type": "markdown",
   "metadata": {},
   "source": [
    "## make new result by image ids"
   ]
  },
  {
   "cell_type": "code",
   "execution_count": 7,
   "metadata": {},
   "outputs": [
    {
     "name": "stdout",
     "output_type": "stream",
     "text": [
      "loading annotations into memory...\n",
      "Done (t=0.01s)\n",
      "creating index...\n",
      "index created!\n"
     ]
    },
    {
     "name": "stderr",
     "output_type": "stream",
     "text": [
      "100%|██████████| 684416/684416 [00:01<00:00, 362267.79it/s]\n"
     ]
    },
    {
     "name": "stdout",
     "output_type": "stream",
     "text": [
      "Loading and preparing results...\n",
      "DONE (t=0.03s)\n",
      "creating index...\n",
      "index created!\n"
     ]
    }
   ],
   "source": [
    "new_anno = COCO(new_anno_json)\n",
    "\n",
    "with open(pred_json, 'r')as f:\n",
    "    new_pred = json.load(f)\n",
    "\n",
    "img_ids = new_anno.getImgIds()\n",
    "for i in tqdm(range(len(new_pred)-1, -1, -1)):\n",
    "    if not new_pred[i]['image_id'] in img_ids:\n",
    "        new_pred.pop(i)\n",
    "\n",
    "with open(new_pred_json, 'w') as f:\n",
    "    json.dump(new_pred, f)\n",
    "    \n",
    "new_pred = new_anno.loadRes(new_pred_json)  # init predictions api\n",
    "eval = COCOeval(new_anno, new_pred, 'bbox')"
   ]
  },
  {
   "cell_type": "code",
   "execution_count": 8,
   "metadata": {},
   "outputs": [
    {
     "name": "stdout",
     "output_type": "stream",
     "text": [
      "Running per image evaluation...\n",
      "Evaluate annotation type *bbox*\n",
      "DONE (t=1.28s).\n",
      "Accumulating evaluation results...\n",
      "DONE (t=0.37s).\n",
      " Average Precision  (AP) @[ IoU=0.50:0.95 | area=   all | maxDets=100 ] = 0.506\n",
      " Average Precision  (AP) @[ IoU=0.50      | area=   all | maxDets=100 ] = 0.675\n",
      " Average Precision  (AP) @[ IoU=0.75      | area=   all | maxDets=100 ] = 0.554\n",
      " Average Precision  (AP) @[ IoU=0.50:0.95 | area= small | maxDets=100 ] = 0.342\n",
      " Average Precision  (AP) @[ IoU=0.50:0.95 | area=medium | maxDets=100 ] = 0.573\n",
      " Average Precision  (AP) @[ IoU=0.50:0.95 | area= large | maxDets=100 ] = 0.647\n",
      " Average Recall     (AR) @[ IoU=0.50:0.95 | area=   all | maxDets=  1 ] = 0.417\n",
      " Average Recall     (AR) @[ IoU=0.50:0.95 | area=   all | maxDets= 10 ] = 0.633\n",
      " Average Recall     (AR) @[ IoU=0.50:0.95 | area=   all | maxDets=100 ] = 0.688\n",
      " Average Recall     (AR) @[ IoU=0.50:0.95 | area= small | maxDets=100 ] = 0.502\n",
      " Average Recall     (AR) @[ IoU=0.50:0.95 | area=medium | maxDets=100 ] = 0.723\n",
      " Average Recall     (AR) @[ IoU=0.50:0.95 | area= large | maxDets=100 ] = 0.781\n"
     ]
    }
   ],
   "source": [
    "eval.evaluate()\n",
    "eval.accumulate()\n",
    "eval.summarize()"
   ]
  }
 ],
 "metadata": {
  "kernelspec": {
   "display_name": "Python 3",
   "language": "python",
   "name": "python3"
  },
  "language_info": {
   "codemirror_mode": {
    "name": "ipython",
    "version": 3
   },
   "file_extension": ".py",
   "mimetype": "text/x-python",
   "name": "python",
   "nbconvert_exporter": "python",
   "pygments_lexer": "ipython3",
   "version": "3.7.7"
  }
 },
 "nbformat": 4,
 "nbformat_minor": 4
}
